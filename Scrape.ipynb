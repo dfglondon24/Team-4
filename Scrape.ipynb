{
 "cells": [
  {
   "cell_type": "code",
   "execution_count": 14,
   "id": "81ba68ce-7212-4da4-b865-bf04222a9b01",
   "metadata": {},
   "outputs": [
    {
     "name": "stdout",
     "output_type": "stream",
     "text": [
      "Data for Education extracted and saved to Education_scores.csv\n",
      "Data for Health extracted and saved to Health_scores.csv\n",
      "Data for Nutrition extracted and saved to Nutrition_scores.csv\n",
      "Data for Sanitation extracted and saved to Sanitation_scores.csv\n",
      "Data for Water extracted and saved to Water_scores.csv\n",
      "Data for Energy extracted and saved to Energy_scores.csv\n",
      "Data for Governance extracted and saved to Governance_scores.csv\n",
      "Data for Child Protection extracted and saved to Child Protection_scores.csv\n"
     ]
    }
   ],
   "source": [
    "import pdfplumber\n",
    "import pandas as pd\n",
    "\n",
    "#Clean up was required after due to the nature of the pdfs being split accross multiple pages\n",
    "\n",
    "pdf_path = \"2022 District League Table Report .pdf\"\n",
    "\n",
    "page_ranges = {\n",
    "    \"Education\": (79, 86),  \n",
    "    \"Health\": (86, 94),   \n",
    "    \"Nutrition\": (94, 102), \n",
    "    \"Sanitation\": (102, 110),\n",
    "    \"Water\": (110, 117),\n",
    "    \"Energy\": (118, 125),    \n",
    "    \"Governance\": (125, 133),\n",
    "    \"Child Protection\": (133, 141) \n",
    "}\n",
    "\n",
    "columns = [\"Name\", \"Region\", \"Description\", \"2021 Ranking\", \"2022 Score\", \"2022 Ranking\"]\n",
    "\n",
    "with pdfplumber.open(pdf_path) as pdf:\n",
    "    for category, (start_page, end_page) in page_ranges.items():\n",
    "        data = []\n",
    "\n",
    "        for page_number in range(start_page - 1, end_page):\n",
    "            page = pdf.pages[page_number]\n",
    "            text = page.extract_text()\n",
    "\n",
    "            lines = text.strip().split(\"\\n\")\n",
    "\n",
    "            for line in lines:\n",
    "                if line.startswith(\"Name\") or \"DLT Report\" in line or len(line.strip()) == 0:\n",
    "                    continue\n",
    "\n",
    "                parts = line.split()\n",
    "\n",
    "                if len(parts) >= 6:\n",
    "                    name = \" \".join(parts[:-5]) \n",
    "                    region = parts[-5]\n",
    "                    description = parts[-4]\n",
    "                    rank_2021 = parts[-3]\n",
    "                    score_2022 = parts[-2]\n",
    "                    rank_2022 = parts[-1]\n",
    "\n",
    "                    data.append([name, region, description, rank_2021, score_2022, rank_2022])\n",
    "\n",
    "        df = pd.DataFrame(data, columns=columns)\n",
    "        csv_filename = f\"{category}_scores.csv\"\n",
    "        df.to_csv(csv_filename, index=False)\n",
    "        print(f\"Data for {category} extracted and saved to {csv_filename}\")"
   ]
  },
  {
   "cell_type": "code",
   "execution_count": null,
   "id": "829ddecc-4635-4c18-97bf-35369962f0cc",
   "metadata": {},
   "outputs": [],
   "source": []
  }
 ],
 "metadata": {
  "kernelspec": {
   "display_name": "Python 3 (ipykernel)",
   "language": "python",
   "name": "python3"
  },
  "language_info": {
   "codemirror_mode": {
    "name": "ipython",
    "version": 3
   },
   "file_extension": ".py",
   "mimetype": "text/x-python",
   "name": "python",
   "nbconvert_exporter": "python",
   "pygments_lexer": "ipython3",
   "version": "3.9.6"
  }
 },
 "nbformat": 4,
 "nbformat_minor": 5
}
