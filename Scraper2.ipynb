{
 "cells": [
  {
   "cell_type": "code",
   "execution_count": 4,
   "id": "12ed1231-87ca-4224-bb0f-9c200f0a5c79",
   "metadata": {},
   "outputs": [
    {
     "name": "stdout",
     "output_type": "stream",
     "text": [
      "Skipped line (unexpected format): 2021 DLT\n",
      "Skipped line (unexpected format): 2021 DLT\n",
      "Skipped line (unexpected format): municipalities and five districts—across\n",
      "Skipped line (unexpected format): La Nkwantanang-Madina\n",
      "Skipped line (unexpected format): 2021 DLT\n",
      "Skipped line (unexpected format): 2021 DLT\n",
      "Skipped line (unexpected format): 3.7.2 Regional Analysis\n",
      "Skipped line (unexpected format): plan.\n",
      "Skipped line (unexpected format): 2021 DLT\n",
      "Skipped line (unexpected format): 2021 DLT\n",
      "Skipped line (unexpected format): presented in Annex I.\n",
      "Skipped line (unexpected format): 2021 DLT\n",
      "Data for DLT extracted and saved to 2021DLT_scores.csv\n"
     ]
    }
   ],
   "source": [
    "import pdfplumber\n",
    "import pandas as pd\n",
    "\n",
    "pdf_path = \"2021-District-League-Table Report-9-Nov-2022-smaller.pdf\"\n",
    "\n",
    "page_ranges = {\n",
    "    \"DLT\": (42, 48),  \n",
    "}\n",
    "\n",
    "columns = [\"Name\", \"Region\", \"Description\", \"Score\", \"Ranking\"]\n",
    "\n",
    "with pdfplumber.open(pdf_path) as pdf:\n",
    "    for category, (start_page, end_page) in page_ranges.items():\n",
    "        data = []\n",
    "\n",
    "        for page_number in range(start_page - 1, end_page):\n",
    "            page = pdf.pages[page_number]\n",
    "            text = page.extract_text()\n",
    "\n",
    "            lines = text.strip().split(\"\\n\")\n",
    "\n",
    "            for line in lines:\n",
    "                if len(line.strip()) == 0 or \"DLT Report\" in line:\n",
    "                    continue\n",
    "\n",
    "                parts = line.split()\n",
    "\n",
    "                if len(parts) >= 5:\n",
    "                    name = \" \".join(parts[:-4])\n",
    "                    region = parts[-4]\n",
    "                    description = parts[-3]\n",
    "                    score = parts[-2]\n",
    "                    ranking = parts[-1]\n",
    "\n",
    "                    data.append([name, region, description, score, ranking])\n",
    "                else:\n",
    "                    print(f\"Skipped line (unexpected format): {line}\")\n",
    "\n",
    "        df = pd.DataFrame(data, columns=columns)\n",
    "        csv_filename = f\"2021{category}_scores.csv\"\n",
    "        df.to_csv(csv_filename, index=False)\n",
    "        print(f\"Data for {category} extracted and saved to {csv_filename}\")"
   ]
  },
  {
   "cell_type": "code",
   "execution_count": null,
   "id": "a84e2f06-5673-4301-b500-547d31f31b08",
   "metadata": {},
   "outputs": [],
   "source": []
  }
 ],
 "metadata": {
  "kernelspec": {
   "display_name": "Python 3 (ipykernel)",
   "language": "python",
   "name": "python3"
  },
  "language_info": {
   "codemirror_mode": {
    "name": "ipython",
    "version": 3
   },
   "file_extension": ".py",
   "mimetype": "text/x-python",
   "name": "python",
   "nbconvert_exporter": "python",
   "pygments_lexer": "ipython3",
   "version": "3.9.6"
  }
 },
 "nbformat": 4,
 "nbformat_minor": 5
}
